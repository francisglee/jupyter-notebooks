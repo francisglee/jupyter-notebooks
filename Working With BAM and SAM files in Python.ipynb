{
 "cells": [
  {
   "cell_type": "markdown",
   "metadata": {},
   "source": [
    "`SAM` files are Sequencing/Alignment files.  `BAM` files are binary versions of `SAM` files.  File specifications can be found [here](http://samtools.github.io/hts-specs/SAMv1.pdf).\n",
    "\n",
    "`SAM` and `BAM` files should be sorted by position and indexed, and that the index files follows a specific naming convention. Specifically,  a `BAM` index file should be named by appending `.BAI` to the bam file name. A `SAM` index filename is created by appending `.SAI`.  "
   ]
  },
  {
   "cell_type": "markdown",
   "metadata": {},
   "source": [
    "__Tutorials__:\n",
    "\n",
    "- [Working with Genomic Data in Python](http://fullstackdatascientist.io/15/03/2016/genomic-data-visualization-using-python/)\n",
    "- [Framework for Evaluating Variant Detection Methods](https://bcb.io/2013/05/06/framework-for-evaluating-variant-detection-methods-comparison-of-aligners-and-callers/)"
   ]
  },
  {
   "cell_type": "markdown",
   "metadata": {},
   "source": [
    "__Python packages__:\n",
    "\n",
    "- [bamnostic](https://github.com/betteridiot/bamnostic): `BAM`\n",
    "- [pybedtools](https://github.com/daler/pybedtools): `BAM`, `SAM`, `BED`, `BCF`, `VCF`, `GFF`, and `GTF` \n",
    "- [htseq](https://github.com/simon-anders/htseq): `FASTQ`, `BAM`, `SAM`, `VCF`, `BED`\n",
    "- [GenomeView](https://github.com/nspies/genomeview): `BAM`"
   ]
  },
  {
   "cell_type": "markdown",
   "metadata": {},
   "source": [
    "__What can we look at?__:\n",
    "\n",
    "- __Coverage histogram in amplicon region__ :  This is a distribution of coverage inside the amplicon regions. The function parses region by region and get the coverage of all the samples provided, then render a histogram with X axis being the coverage\n",
    "\n",
    "- __Cumulative coverage saturation plot__:  This is the same as before, instead we render a cumulative histogram, it can be useful, you can see how bad the NSG sample renders for example\n",
    "\n",
    "- __Mapping qualities in amplicon regions__: This is a stacked histogram that renders the mapping qualities inside the amplicon regions, we can see that NSG is again failing and that we have a mapping qualities around 42 in this example in particular\n",
    "\n",
    "- ~~__Targeted regions coverage__:  This is the so called CDF function of coverage per sample inside the target regions~~\n",
    "\n",
    "- ~~__Coverage heatmap inside amplicon regions__: This plot is another view of coverage inside amplicon region, it places all the samples side by side and render all the row as a heatmap, I did 2 examples here, one with a crazy sample like the NSG one and one without~~\n",
    "\n",
    "- ~~__Allelic frequencies heatmap__: This is a plot showing the allele frequencies change across positions and samples, I tried to cluster the positions per frequencies values but I don’t get ‘clusterable’ positions, so I sorted the positions values across all samples~~\n",
    "\n",
    "- ~~__Zygosity Matrix__: Dual clustering on positions and sample names grouping positions per zygosity (heterozygote, homozygote wildtype, homozygote mutant)~~"
   ]
  },
  {
   "cell_type": "code",
   "execution_count": 1,
   "metadata": {},
   "outputs": [],
   "source": [
    "import os"
   ]
  },
  {
   "cell_type": "code",
   "execution_count": 2,
   "metadata": {},
   "outputs": [
    {
     "data": {
      "text/plain": [
       "'/home/ifrancium/Documents/amplicon-ngs-workflow/notebooks'"
      ]
     },
     "execution_count": 2,
     "metadata": {},
     "output_type": "execute_result"
    }
   ],
   "source": [
    "os.getcwd()"
   ]
  },
  {
   "cell_type": "code",
   "execution_count": 3,
   "metadata": {},
   "outputs": [
    {
     "data": {
      "text/plain": [
       "['aln2.fastq.gz',\n",
       " 'aln.bam',\n",
       " 'aln1.fastq',\n",
       " 'aln.bam.bai',\n",
       " 'aln1.fastq.gz',\n",
       " 'aln2.fastq']"
      ]
     },
     "execution_count": 3,
     "metadata": {},
     "output_type": "execute_result"
    }
   ],
   "source": [
    "os.listdir(\"./data/original_files\")"
   ]
  },
  {
   "cell_type": "code",
   "execution_count": 4,
   "metadata": {},
   "outputs": [
    {
     "data": {
      "text/plain": [
       "['amplicon1.bam',\n",
       " 'amplicon2.bam.bai',\n",
       " 'whole-data',\n",
       " 'amplicon4.bam.bai',\n",
       " 'amplicon3.bam',\n",
       " 'amplicon3.bam.bai',\n",
       " 'amplicon1.bam.bai',\n",
       " 'amplicon4.bam',\n",
       " 'amplicon2.bam',\n",
       " 'amp1_bamflags.txt',\n",
       " 'subsect']"
      ]
     },
     "execution_count": 4,
     "metadata": {},
     "output_type": "execute_result"
    }
   ],
   "source": [
    "os.listdir(\"./data/samtools_output/amplicons\")"
   ]
  },
  {
   "cell_type": "code",
   "execution_count": 5,
   "metadata": {},
   "outputs": [],
   "source": [
    "amplicon_bam_dir = \"/home/ifrancium/Documents/amplicon-ngs-workflow/notebooks/data/samtools_output/amplicons/\""
   ]
  },
  {
   "cell_type": "code",
   "execution_count": 6,
   "metadata": {},
   "outputs": [
    {
     "data": {
      "text/plain": [
       "['Homo_sapiens.GRCh37.dna_sm.chromosome.12.fa.sa',\n",
       " 'Homo_sapiens.GRCh37.dna_sm.chromosome.7.fa.fai',\n",
       " 'Homo_sapiens.GRCh37.dna_sm.chromosome.14.fa',\n",
       " 'Homo_sapiens.GRCh37.dna_sm.chromosome.13.fa.fai',\n",
       " 'Homo_sapiens.GRCh37.dna_sm.chromosome.17.fa.pac',\n",
       " 'Homo_sapiens.GRCh37.dna_sm.chromosome.14.fa.bwt',\n",
       " 'Homo_sapiens.GRCh37.dna_sm.chromosome.19.fa',\n",
       " 'Homo_sapiens.GRCh37.dna_sm.chromosome.10.fa.ann',\n",
       " 'Homo_sapiens.GRCh37.dna_sm.chromosome.2.fa.pac',\n",
       " 'Homo_sapiens.GRCh37.dna_sm.chromosome.MT.fa.gz',\n",
       " 'Homo_sapiens.GRCh37.dna_sm.chromosome.13.fa.bwt',\n",
       " 'Homo_sapiens.GRCh37.dna_sm.chromosome.14.fa.sa',\n",
       " 'Homo_sapiens.GRCh37.dna_sm.chromosome.11.fa',\n",
       " 'Homo_sapiens.GRCh37.dna_sm.chromosome.11.fa.sa',\n",
       " 'Homo_sapiens.GRCh37.dna_sm.chromosome.18.fa',\n",
       " 'Homo_sapiens.GRCh37.dna_sm.chromosome.X.fa.gz',\n",
       " 'Homo_sapiens.GRCh37.dna_sm.chromosome.10.fa',\n",
       " 'Homo_sapiens.GRCh37.dna_sm.chromosome.12.fa.ann',\n",
       " 'Homo_sapiens.GRCh37.dna_sm.chromosome.3.fa.pac',\n",
       " 'Homo_sapiens.GRCh37.dna_sm.chromosome.2.fa.amb',\n",
       " 'Homo_sapiens.GRCh37.dna_sm.chromosome.12.fa.pac',\n",
       " 'Homo_sapiens.GRCh37.dna_sm.chromosome.6.fa.fai',\n",
       " 'Homo_sapiens.GRCh37.dna_sm.chromosome.5.fa.ann',\n",
       " 'Homo_sapiens.GRCh37.dna_sm.chromosome.2.fa',\n",
       " 'Homo_sapiens.GRCh37.dna_sm.chromosome.6.fa',\n",
       " 'Homo_sapiens.GRCh37.dna_sm.chromosome.20.fa.gz',\n",
       " 'Homo_sapiens.GRCh37.dna_sm.chromosome.13.fa.amb',\n",
       " 'Homo_sapiens.GRCh37.dna_sm.chromosome.10.fa.sa',\n",
       " 'Homo_sapiens.GRCh37.dna_sm.chromosome.13.fa.sa',\n",
       " 'Homo_sapiens.GRCh37.dna_sm.chromosome.9.fa.ann',\n",
       " 'Homo_sapiens.GRCh37.dna_sm.chromosome.3.fa',\n",
       " 'Homo_sapiens.GRCh37.dna_sm.chromosome.7.fa.sa',\n",
       " 'Homo_sapiens.GRCh37.dna_sm.chromosome.7.fa',\n",
       " 'Homo_sapiens.GRCh37.dna_sm.chromosome.8.fa',\n",
       " 'Homo_sapiens.GRCh37.dna_sm.chromosome.18.fa.fai',\n",
       " 'Homo_sapiens.GRCh37.dna_sm.chromosome.Y.fa.gz',\n",
       " 'Homo_sapiens.GRCh37.dna_sm.chromosome.14.fa.ann',\n",
       " 'Homo_sapiens.GRCh37.dna_sm.chromosome.4.fa',\n",
       " 'Homo_sapiens.GRCh37.dna_sm.chromosome.10.fa.pac',\n",
       " 'Homo_sapiens.GRCh37.dna_sm.chromosome.16.fa.ann',\n",
       " 'Homo_sapiens.GRCh37.dna_sm.chromosome.15.fa',\n",
       " 'Homo_sapiens.GRCh37.dna_sm.chromosome.8.fa.bwt',\n",
       " 'Homo_sapiens.GRCh37.dna_sm.chromosome.21.fa.gz',\n",
       " 'Homo_sapiens.GRCh37.dna_sm.chromosome.15.fa.fai',\n",
       " 'Homo_sapiens.GRCh37.dna_sm.chromosome.12.fa.amb',\n",
       " 'Homo_sapiens.GRCh37.dna_sm.chromosome.16.fa.pac',\n",
       " 'Homo_sapiens.GRCh37.dna_sm.chromosome.2.fa.fai',\n",
       " 'Homo_sapiens.GRCh37.dna_sm.chromosome.5.fa.fai',\n",
       " 'Homo_sapiens.GRCh37.dna_sm.chromosome.18.fa.sa',\n",
       " 'Homo_sapiens.GRCh37.dna_sm.chromosome.10.fa.amb',\n",
       " 'Homo_sapiens.GRCh37.dna_sm.chromosome.15.fa.pac',\n",
       " 'Homo_sapiens.GRCh37.dna_sm.chromosome.5.fa',\n",
       " 'Homo_sapiens.GRCh37.dna_sm.chromosome.7.fa.amb',\n",
       " 'Homo_sapiens.GRCh37.dna_sm.chromosome.2.fa.ann',\n",
       " 'Homo_sapiens.GRCh37.dna_sm.chromosome.19.fa.ann',\n",
       " 'Homo_sapiens.GRCh37.dna_sm.chromosome.2.fa.bwt',\n",
       " 'Homo_sapiens.GRCh37.dna_sm.chromosome.2.fa.sa',\n",
       " 'Homo_sapiens.GRCh37.dna_sm.chromosome.14.fa.pac',\n",
       " 'Homo_sapiens.GRCh37.dna_sm.chromosome.19.fa.amb',\n",
       " 'Homo_sapiens.GRCh37.dna_sm.chromosome.8.fa.amb',\n",
       " 'Homo_sapiens.GRCh37.dna_sm.chromosome.14.fa.amb',\n",
       " 'Homo_sapiens.GRCh37.dna_sm.chromosome.11.fa.fai',\n",
       " 'Homo_sapiens.GRCh37.dna_sm.chromosome.1.fa.amb',\n",
       " 'Homo_sapiens.GRCh37.dna_sm.chromosome.22.fa.gz',\n",
       " 'Homo_sapiens.GRCh37.dna_sm.chromosome.3.fa.bwt',\n",
       " 'Homo_sapiens.GRCh37.dna_sm.chromosome.7.fa.bwt',\n",
       " 'Homo_sapiens.GRCh37.dna_sm.chromosome.19.fa.sa',\n",
       " 'Homo_sapiens.GRCh37.dna_sm.chromosome.9.fa.fai',\n",
       " 'Homo_sapiens.GRCh37.dna_sm.chromosome.14.fa.fai',\n",
       " 'Homo_sapiens.GRCh37.dna_sm.chromosome.16.fa.amb',\n",
       " 'Homo_sapiens.GRCh37.dna_sm.chromosome.11.fa.bwt',\n",
       " 'Homo_sapiens.GRCh37.dna_sm.chromosome.4.fa.fai',\n",
       " 'Homo_sapiens.GRCh37.dna_sm.chromosome.3.fa.sa',\n",
       " 'Homo_sapiens.GRCh37.dna_sm.chromosome.17.fa.bwt',\n",
       " 'Homo_sapiens.GRCh37.dna_sm.chromosome.15.fa.amb',\n",
       " 'Homo_sapiens.GRCh37.dna_sm.chromosome.18.fa.pac',\n",
       " 'Homo_sapiens.GRCh37.dna_sm.chromosome.1.fa.sa',\n",
       " 'Homo_sapiens.GRCh37.dna_sm.chromosome.6.fa.bwt',\n",
       " 'Homo_sapiens.GRCh37.dna_sm.chromosome.10.fa.bwt',\n",
       " 'Homo_sapiens.GRCh37.dna_sm.chromosome.18.fa.bwt',\n",
       " 'Homo_sapiens.GRCh37.dna_sm.chromosome.8.fa.ann',\n",
       " 'Homo_sapiens.GRCh37.dna_sm.chromosome.12.fa.fai',\n",
       " 'Homo_sapiens.GRCh37.dna_sm.chromosome.7.fa.ann',\n",
       " 'Homo_sapiens.GRCh37.dna_sm.chromosome.17.fa.amb',\n",
       " 'Homo_sapiens.GRCh37.dna_sm.chromosome.4.fa.pac',\n",
       " 'Homo_sapiens.GRCh37.dna_sm.chromosome.19.fa.bwt',\n",
       " 'Homo_sapiens.GRCh37.dna_sm.chromosome.17.fa',\n",
       " 'Homo_sapiens.GRCh37.dna_sm.chromosome.18.fa.ann',\n",
       " 'Homo_sapiens.GRCh37.dna_sm.chromosome.19.fa.pac',\n",
       " 'Homo_sapiens.GRCh37.dna_sm.chromosome.18.fa.amb',\n",
       " 'Homo_sapiens.GRCh37.dna_sm.chromosome.5.fa.bwt',\n",
       " 'Homo_sapiens.GRCh37.dna_sm.chromosome.8.fa.sa',\n",
       " 'Homo_sapiens.GRCh37.dna_sm.chromosome.17.fa.ann',\n",
       " 'Homo_sapiens.GRCh37.dna_sm.chromosome.5.fa.sa',\n",
       " 'Homo_sapiens.GRCh37.dna_sm.chromosome.6.fa.pac',\n",
       " 'Homo_sapiens.GRCh37.dna_sm.chromosome.19.fa.fai',\n",
       " 'Homo_sapiens.GRCh37.dna_sm.chromosome.16.fa.bwt',\n",
       " 'Homo_sapiens.GRCh37.dna_sm.chromosome.17.fa.fai',\n",
       " 'Homo_sapiens.GRCh37.dna_sm.chromosome.15.fa.ann',\n",
       " 'Homo_sapiens.GRCh37.dna_sm.chromosome.4.fa.ann',\n",
       " 'Homo_sapiens.GRCh37.dna_sm.chromosome.13.fa.ann',\n",
       " 'Homo_sapiens.GRCh37.dna_sm.chromosome.9.fa.amb',\n",
       " 'Homo_sapiens.GRCh37.dna_sm.chromosome.9.fa',\n",
       " 'Homo_sapiens.GRCh37.dna_sm.nonchromosomal.fa.gz',\n",
       " 'Homo_sapiens.GRCh37.dna_sm.chromosome.15.fa.sa',\n",
       " 'Homo_sapiens.GRCh37.dna_sm.chromosome.10.fa.fai',\n",
       " 'Homo_sapiens.GRCh37.dna_sm.chromosome.4.fa.sa',\n",
       " 'Homo_sapiens.GRCh37.dna_sm.chromosome.16.fa.sa',\n",
       " 'Homo_sapiens.GRCh37.dna_sm.chromosome.11.fa.amb',\n",
       " 'Homo_sapiens.GRCh37.dna_sm.chromosome.12.fa.bwt',\n",
       " 'Homo_sapiens.GRCh37.dna_sm.chromosome.1.fa.bwt',\n",
       " 'Homo_sapiens.GRCh37.dna_sm.chromosome.17.fa.sa',\n",
       " 'Homo_sapiens.GRCh37.dna_sm.chromosome.7.fa.pac',\n",
       " 'Homo_sapiens.GRCh37.dna_sm.chromosome.11.fa.pac',\n",
       " 'Homo_sapiens.GRCh37.dna_sm.chromosome.1.fa.ann',\n",
       " 'Homo_sapiens.GRCh37.dna_sm.chromosome.13.fa',\n",
       " 'Homo_sapiens.GRCh37.dna_sm.chromosome.9.fa.pac',\n",
       " 'Homo_sapiens.GRCh37.dna_sm.chromosome.11.fa.ann',\n",
       " 'Homo_sapiens.GRCh37.dna_sm.chromosome.8.fa.pac',\n",
       " 'Homo_sapiens.GRCh37.dna_sm.chromosome.15.fa.bwt',\n",
       " 'Homo_sapiens.GRCh37.dna_sm.chromosome.5.fa.amb',\n",
       " 'Homo_sapiens.GRCh37.87.chromosome.7.gff3.gz',\n",
       " 'Homo_sapiens.GRCh37.dna_sm.chromosome.9.fa.sa',\n",
       " 'Homo_sapiens.GRCh37.87.chromosome.7.bed',\n",
       " 'Homo_sapiens.GRCh37.dna_sm.chromosome.4.fa.bwt',\n",
       " 'Homo_sapiens.GRCh37.dna_sm.chromosome.9.fa.bwt',\n",
       " 'Homo_sapiens.GRCh37.dna_sm.chromosome.1.fa.fai',\n",
       " 'Homo_sapiens.GRCh37.dna_sm.chromosome.3.fa.ann',\n",
       " 'Homo_sapiens.GRCh37.dna_sm.chromosome.6.fa.amb',\n",
       " 'Homo_sapiens.GRCh37.dna_sm.chromosome.3.fa.amb',\n",
       " 'Homo_sapiens.GRCh37.87.chromosome.7.gff3',\n",
       " 'Homo_sapiens.GRCh37.dna_sm.chromosome.16.fa.fai',\n",
       " 'Homo_sapiens.GRCh37.dna_sm.chromosome.8.fa.fai',\n",
       " 'Homo_sapiens.GRCh37.dna_sm.chromosome.1.fa',\n",
       " 'Homo_sapiens.GRCh37.dna_sm.chromosome.6.fa.sa',\n",
       " 'Homo_sapiens.GRCh37.dna_sm.chromosome.5.fa.pac',\n",
       " 'Homo_sapiens.GRCh37.dna_sm.chromosome.16.fa',\n",
       " 'Homo_sapiens.GRCh37.dna_sm.chromosome.6.fa.ann',\n",
       " 'Homo_sapiens.GRCh37.dna_sm.chromosome.1.fa.pac',\n",
       " 'Homo_sapiens.GRCh37.dna_sm.chromosome.13.fa.pac',\n",
       " 'Homo_sapiens.GRCh37.dna_sm.chromosome.4.fa.amb',\n",
       " 'Homo_sapiens.GRCh37.dna_sm.chromosome.3.fa.fai',\n",
       " 'Homo_sapiens.GRCh37.dna_sm.chromosome.12.fa']"
      ]
     },
     "execution_count": 6,
     "metadata": {},
     "output_type": "execute_result"
    }
   ],
   "source": [
    "os.listdir(\"./../reference_sequences/Homo_sapiens.GRCh37/chromosomes/\")"
   ]
  },
  {
   "cell_type": "code",
   "execution_count": 7,
   "metadata": {},
   "outputs": [
    {
     "name": "stdout",
     "output_type": "stream",
     "text": [
      "/home/ifrancium/Documents/amplicon-ngs-workflow/reference_sequences/Homo_sapiens.GRCh37/chromosomes/Homo_sapiens.GRCh37.dna_sm.chromosome.7.fa\n"
     ]
    }
   ],
   "source": [
    "ref_seq_path = \"/home/ifrancium/Documents/amplicon-ngs-workflow/reference_sequences/Homo_sapiens.GRCh37/chromosomes/Homo_sapiens.GRCh37.dna_sm.chromosome.7.fa\"\n",
    "print(ref_seq_path)"
   ]
  },
  {
   "cell_type": "markdown",
   "metadata": {},
   "source": [
    "### Visualizing Alignment using `genomeviewer`"
   ]
  },
  {
   "cell_type": "code",
   "execution_count": 8,
   "metadata": {},
   "outputs": [],
   "source": [
    "import genomeview\n",
    "from genomeview.bamtrack import SingleEndBAMTrack, PairedEndBAMTrack\n",
    "import genomeview.axis\n",
    "import genomeview.graphtrack\n",
    "from genomeview import genomesource"
   ]
  },
  {
   "cell_type": "code",
   "execution_count": 9,
   "metadata": {},
   "outputs": [
    {
     "name": "stdout",
     "output_type": "stream",
     "text": [
      "/home/ifrancium/Documents/amplicon-ngs-workflow/notebooks/data/samtools_output/amplicons/amplicon1.bam\n"
     ]
    }
   ],
   "source": [
    "amplicon1_bam_dir = amplicon_bam_dir + 'amplicon1.bam'\n",
    "print(amplicon1_bam_dir)"
   ]
  },
  {
   "cell_type": "code",
   "execution_count": 10,
   "metadata": {},
   "outputs": [],
   "source": [
    "track_info = {\"Amplicon 1\": amplicon1_bam_dir}\n",
    "chrom = \"7\"\n",
    "start = 55242300"
   ]
  },
  {
   "cell_type": "code",
   "execution_count": 11,
   "metadata": {},
   "outputs": [],
   "source": [
    "tracks = genomeview.visualize_data(track_info, chrom, start, start+300, ref_seq_path)"
   ]
  },
  {
   "cell_type": "code",
   "execution_count": null,
   "metadata": {},
   "outputs": [],
   "source": [
    "tracks"
   ]
  },
  {
   "cell_type": "markdown",
   "metadata": {},
   "source": [
    "__Building tracks__"
   ]
  },
  {
   "cell_type": "code",
   "execution_count": null,
   "metadata": {},
   "outputs": [],
   "source": [
    "doc = genomeview.Document(900)"
   ]
  },
  {
   "cell_type": "code",
   "execution_count": null,
   "metadata": {},
   "outputs": [],
   "source": [
    "amplicon_start_pos = {\n",
    "    \"1\": 55242300,\n",
    "    \"2\": 55241500,\n",
    "    \"3\": 55259300, \n",
    "    \"4\": 55248900\n",
    "    }\n",
    "\n",
    "chromosome = \"chr7\""
   ]
  },
  {
   "cell_type": "code",
   "execution_count": null,
   "metadata": {},
   "outputs": [],
   "source": [
    "view = genomeview.GenomeView(chromosome, amplicon_start_pos[\"1\"], amplicon_start_pos[\"1\"] + 300, \"+\", ref_seq_path)\n",
    "doc.add_view(view)"
   ]
  },
  {
   "cell_type": "code",
   "execution_count": null,
   "metadata": {},
   "outputs": [],
   "source": [
    "amplicon1_bam_track = genomeview.PairedEndBAMTrack(amplicon_bam_dir + \"amplicon1.bam\", name=\"Amplicon1\")\n",
    "view.add_track(amplicon1_bam_track)\n",
    "\n",
    "axis_track = genomeview.Axis()\n",
    "view.add_track(axis_track)"
   ]
  },
  {
   "cell_type": "code",
   "execution_count": null,
   "metadata": {},
   "outputs": [],
   "source": [
    "print(\"There are \", sum(1 for x in aln), \" alignment reads in this BAM file.\")"
   ]
  },
  {
   "cell_type": "code",
   "execution_count": null,
   "metadata": {},
   "outputs": [],
   "source": [
    "sample_size = 5\n",
    "    \n",
    "t_start = time.time()\n",
    "\n",
    "print(\"Printing the first {} reads in aln:\".format(sample_size))\n",
    "\n",
    "aln_alignment_reads = []\n",
    "\n",
    "for cnt, alignment_read in enumerate(itertools.islice(aln, sample_size)):\n",
    "    \n",
    "    read_dict = {\n",
    "        \"Sequence\": str(alignment_read.read),\n",
    "        \"Aligned?\": alignment_read.aligned,\n",
    "        \"Coverage\": alignment_read.iv,\n",
    "        # \"Paired-end?\": alignment_read.paired-end, # This could probably be removed. NOT WORKING\n",
    "        \"Phred Score\": alignment_read.aQual,\n",
    "        \"CIGAR Objects\": alignment_read.cigar,\n",
    "        \"Secondary Alignment (0x100)\": alignment_read.not_primary_alignment,\n",
    "        \"Failed QC? (0x200)\": alignment_read.failed_platform_qc,\n",
    "        \"PCR/Optical duplicate? (0x400)\": alignment_read.pcr_or_optical_duplicate,\n",
    "        \"Chimeric Alignment (0x800)\": alignment_read.supplementary,\n",
    "        # \"Alignment Description\": alignment_read.get_sam_lines(), # NOT WORKING\n",
    "        \"Pairs Overlap?\": alignment_read.mate_aligned,\n",
    "        \"Both Pairs Aligned? (0x0002)\": alignment_read.proper_pair,\n",
    "        \"Which Pair Aligned?\": alignment_read.pe_which,\n",
    "        \"Alignment Start Position\": alignment_read.mate_start, # should be the same as `.iv.start`\\n\",\n",
    "        \"Pair Gap Distance\": alignment_read.mate_start\n",
    "        }\n",
    "    aln_alignment_reads.append(read_dict) \n",
    "\n",
    "    # print(cnt, \"Read Length: \", len(alignment_read.read), \"Average Phred Score: \", np.sum(alignment_read.aQual)/len(alignment_read.read), \"Aligned?\", alignment_read.aligned)\n",
    "    \n",
    "    for key, value in read_dict.items():\n",
    "        print(key, value)\n",
    "    \n",
    "# construct dataframe\n",
    "aln_df = pd.DataFrame(aln_alignment_reads)\n",
    "\n",
    "t_stop = time.time()\n",
    "t_total = t_stop - t_start"
   ]
  },
  {
   "cell_type": "code",
   "execution_count": null,
   "metadata": {},
   "outputs": [],
   "source": [
    "head = 5\n",
    "\n",
    "print(\"There are \", len(aln_df.index), \" reads in this dataframe.\")\n",
    "print(\"This job took {} seconds to complete.\".format(t_total))\n",
    "print(\"Printing the first {} rows of the dataframe:\".format(head))\n",
    "aln_df.head(head)"
   ]
  },
  {
   "cell_type": "code",
   "execution_count": null,
   "metadata": {},
   "outputs": [],
   "source": [
    "aln_alignment_reads.append(aln_df[index - 1])\n"
   ]
  }
 ],
 "metadata": {
  "kernelspec": {
   "display_name": ".venv",
   "language": "python",
   "name": ".venv"
  },
  "language_info": {
   "codemirror_mode": {
    "name": "ipython",
    "version": 3
   },
   "file_extension": ".py",
   "mimetype": "text/x-python",
   "name": "python",
   "nbconvert_exporter": "python",
   "pygments_lexer": "ipython3",
   "version": "3.6.7"
  }
 },
 "nbformat": 4,
 "nbformat_minor": 2
}
