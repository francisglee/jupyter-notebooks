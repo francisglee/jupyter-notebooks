{
 "cells": [
  {
   "cell_type": "markdown",
   "metadata": {},
   "source": [
    "# Amplicon Sequencing Report"
   ]
  },
  {
   "cell_type": "markdown",
   "metadata": {},
   "source": [
    "> Please take a look [here](www.github.com/francisglee/amplicon-ngs-workflow) for code samples and jupyter notebooks."
   ]
  },
  {
   "cell_type": "markdown",
   "metadata": {},
   "source": [
    "## Table of Contents"
   ]
  },
  {
   "cell_type": "markdown",
   "metadata": {},
   "source": [
    "- [Introduction](#introduction)\n",
    "- [Findings](#findings)\n",
    "- [Exploration](#exploration)\n",
    "- [Discussion](#discussion)\n",
    "- [Methods](#methods)\n",
    "- [References](#references)"
   ]
  },
  {
   "cell_type": "markdown",
   "metadata": {},
   "source": [
    "## Introduction"
   ]
  },
  {
   "cell_type": "markdown",
   "metadata": {},
   "source": [
    "__Background Information__:\n",
    "\n",
    "1. Data contains NGS reads of human DNA regions.\n",
    "2. The sequenced file is pair-ended from Miseq sequencing platform. \n",
    "3. This file is the result of an amplicon sequencing design.\n",
    "4. The primers used in this file are:\n",
    "   \n",
    "| Forward Primer | Reverse Primer |\n",
    "|:---------------|:---------------|\n",
    "| TTGCCAGTTAACGTCTTCCTTCTCTCTCTG | GAGAAAAGGTGGGCCTGAGGTTCAGAGCCA |   \n",
    "| CCCTTGTCTCTGTGTTCTTGTCCCCCCCA | CCCCACCAGACCATGAGAGGCCCTGCGGCC |    \n",
    "| TGATCTGTCCCTCACAGCAGGGTCTTCTCT | TGACCTAAAGCCACCTCCTTA |\n",
    "| CACACTGACGTGCCTCTCCCTCCCTCCA | CCGTATCTCCCTTCCCTGATTA |\n",
    "   \n",
    "   \n",
    "5. The adaptor sequences used in this file are:\n",
    "   \n",
    "| Adaptor 1 | Adaptor 2 |\n",
    "|:----------|:----------|\n",
    "| AAGACTCGGCAGCATCTCCA | GCGATCGTCACTGTTCTCCA| "
   ]
  },
  {
   "cell_type": "markdown",
   "metadata": {},
   "source": [
    "__Starting Files__:\n",
    "\n",
    "- `aln.bam`: BAM file\n",
    "- `aln.bam.bai`: BAM index file\n",
    "- `aln1.fastq`: Forward sequencing reads\n",
    "- `aln2.fastq`: Reverse sequencing reads"
   ]
  },
  {
   "cell_type": "markdown",
   "metadata": {},
   "source": [
    "__Outstanding Questions:__\n",
    "\n",
    "- What is the constitution of each read, for example (adaptor + primer + amplified region) ?\n",
    "    - primer + amplied region (adaptors seem to be cut)\n",
    "- Which gene region did those reads mapped to ?\n",
    "    - EGFR exon\n",
    "- What is the percentage of reads that were mapped to the human genome? Can you give some comments on the unmapped reads?\n",
    "    - [see this](https://www.biostars.org/p/335579/)\n",
    "    - We have 91.56% reads mapped to genome.\n",
    "    - comment unmapped reads\n",
    "- What is the coverage of each amplicons? Could you find any explanations or clues why the coverage varies among amplicons, especially for those with big differences?\n",
    "    - Amplicon 1\n",
    "    - Amplicon 2\n",
    "    - Amplicon 3\n",
    "    - Amplicon 4\n",
    "- What variants/mutations can you identify from this data? How can you evaluate which variants is more real than others?\n",
    "    - Amplicon 1 has a 15 bp deletion in one allele\n",
    "    - Amplicon 2\n",
    "    - Amplicon 3\n",
    "    - Amplicon 4"
   ]
  },
  {
   "cell_type": "markdown",
   "metadata": {},
   "source": [
    "## Initial Findings"
   ]
  },
  {
   "cell_type": "markdown",
   "metadata": {},
   "source": [
    "### FASTQ Analysis"
   ]
  },
  {
   "cell_type": "markdown",
   "metadata": {},
   "source": [
    "We can use [FASTQC](https://www.bioinformatics.babraham.ac.uk/projects/fastqc/) to perform a quick quality control on the FASTQ files.  Listed below is the summary.\n",
    "\n",
    "| Measure | `aln1.fastq` | `aln2.fastq` | \n",
    "|:--------|:-------------|:-------------|\n",
    "| Filename | aln1.fastq | aln2.fastq |\n",
    "| File type\t| Conventional base calls | onventional base calls |\n",
    "| Encoding | Sanger / Illumina 1.9 | Sanger / Illumina 1.9 |\n",
    "| Total Sequences | 575002 | 575002 | \n",
    "| Sequences flagged as poor quality | 0 | 0 | \n",
    "| Sequence length | 151 | 151 | \n",
    "| %GC | 53 | 52 |"
   ]
  },
  {
   "cell_type": "markdown",
   "metadata": {},
   "source": [
    "| Aln1.FASTQ Per-base Sequence Quality | Aln2.FASTQ Per-base Sequence Quality |\n",
    "|:------------------------------------:|:------------------------------------:|\n",
    "| ![aln1-Per-base-sequence-quality](./../docs/images/aln1perbaseseqqual.png) | ![aln2-Per-base-sequence-quality](./../docs/images/perbaseseqqual.png) |"
   ]
  },
  {
   "cell_type": "markdown",
   "metadata": {},
   "source": [
    "#### Overrepresented sequences\n",
    "\n",
    "| Sequence | Count | Percentage | File |\n",
    "|:---------|:------|:-----------|:-----|\n",
    "| TTGCCAGTTAACGTCTTCCTTCTCTCTCTGTCATAGGGACTCTGGATCCC | 192894 | 33.546665924640266 | aln1.FASTQ |\t\n",
    "| CACACTGACGTGCCTCTCCCTCCCTCCAGGAAGCCTACGTGATGGCCAGC | 135419 | 23.55104851809211 | aln1.FASTQ |\t\n",
    "| TGATCTGTCCCTCACAGCAGGGTCTTCTCTGTTTCAGGGCATGAACTACT | 92426 | 16.074031046848532 | aln1.FASTQ |\t\n",
    "| CACACTGACGTGCCTCTCCTAGACTATGCTGCATGGTGTAGTACCATTAA | 11143 | 1.9379063029345986 | aln1.FASTQ |  | CCCTTGTCTCTGTGTTCTTGTCCCCCCCAGCTTGTGGAGCCTCTTACACC | 3845 | 0.6686933262840824 | aln1.FASTQ |\t\n",
    "| CACACTGACGTGCCTCTCCTGCCACCCTCTTCCACTTTGAAGGCCCCTGT | 2278 | 0.39617253505205197\t| aln1.FASTQ |\n",
    "| CACACTGACGTGCCTCTCCCCCTTGTCTCATGGTCTGGTGGGGTGGAGAA | 2151 | 0.3740856553542422 | aln1.FASTQ |\t\n",
    "| CACACTGACGTGCCTCTCATGGTCTGGTGGGGTGGAGAACAGTGACGATC | 2021 | 0.35147703834073624 | aln1.FASTQ |\n",
    "| CACACTGACGTGCCTCTCCTGGTCTGGTGGGGTGGAGAACAGTGACGATC | 1779 | 0.3093902282079019 | aln1.FASTQ |\n",
    "| GAGAAAAGGTGGGCCTGAGGTTCAGAGCCATGGACCCCCACACAGCAAAG | 173011 | 30.088764908643796 | aln2.FASTQ |\n",
    "| CCGTATCTCCCTTCCCTGATTACCTTTGCGATCTGCACACACCAGTTGAG | 117060 | 20.35819005846936 | aln2.FASTQ |\n",
    "| TGACCTAAAGCCACCTCCTTACTTTGCCTCCTTCTGCATGGTATTCTTTC | 82682 | 14.379428245466972 | aln2.FASTQ |\n",
    "| CCGTATCTCCCTTCCCTGATGTTTTGTGGGAACAGGGAAGAAGGATTACC | 10219 | 1.7772112097001402 | aln2.FASTQ |\n",
    "| CCCCACCAGACCATGAGAGGCCCTGCGGCCCAGCCCAGAGGCCTGTGCCA | 7657 | 1.3316475420955056 | aln2.FASTQ |\n",
    "| CCCCACCAGACCATGAGACAAGGGGGAGAGGCACGTCAGTGTGTGGAGAT | 3253 | 0.5657371626533473 | aln2.FASTQ |\n",
    "| CCCCACCAGACCATGAGAGGCACGTCAGTGTGTGGAGATGCTGCCGAGTC | 2518 | 0.43791152030775543 | aln2.FASTQ |\n",
    "| GAGAGAAGGTGGGCCTGAGGTTCAGAGCCATGGACCCCCACACAGCAAAG | 2469 | 0.42938981081804933 | aln2.FASTQ | CCCCACCAGACCAGGAGAGGCACGTCAGTGTGTGGAGATGCTGCCGAGTC | 2375 | 0.4130420415928988 | aln2.FASTQ |"
   ]
  },
  {
   "cell_type": "markdown",
   "metadata": {},
   "source": [
    "We can see that the top overrepresented sequences correspond to the primer sequences that target the four amplicons."
   ]
  },
  {
   "cell_type": "markdown",
   "metadata": {},
   "source": [
    "### BAM Analysis"
   ]
  },
  {
   "cell_type": "markdown",
   "metadata": {},
   "source": [
    "The BAM file metadata indicates that the sample was aligned using the Bowtie2 algorithm using the `Bowtie2 v2.0.2` package.  The sample ID is `Bordet_EGFR_S1`.  This might be indicative of the genome region being targeted, but we can't be too sure.  EGFR queried in [NCBI Gene](https://www.ncbi.nlm.nih.gov/gene) returns Epidermal Growth Factor Receptor protein.  `_S1` most likely refers to the sequencing sample.  \n",
    "\n",
    "Upon submitting the primer sequences as BLAST queries into the UCSC genome browser, we can clearly see where they map to in the human genome.   \n",
    "\n",
    "![primer blast results](./../docs/images/primerblast.png)\n",
    "\n",
    "These line up the exon regions of the EGFR gene on chromosome 7 of the human genome."
   ]
  },
  {
   "cell_type": "markdown",
   "metadata": {},
   "source": [
    "- What is the percentage of reads that were mapped to the human genome? Can you give some comments on the unmapped reads?\n",
    "- What is the coverage of each amplicons? Could you find any explanations or clues why the coverage varies among amplicons, especially for those with big differences?\n",
    "- What variants/mutations can you identify from this data? How can you evaluate which variants is more real than others?"
   ]
  },
  {
   "cell_type": "markdown",
   "metadata": {},
   "source": [
    "We can use samtools `flagstat` function to view the summary of `aln.bam`.\n",
    "\n",
    "```\n",
    "1150004 + 0 in total (QC-passed reads + QC-failed reads)\n",
    "0 + 0 secondary\n",
    "0 + 0 supplementary\n",
    "0 + 0 duplicates\n",
    "1052983 + 0 mapped (91.56% : N/A)\n",
    "1150004 + 0 paired in sequencing\n",
    "575002 + 0 read1\n",
    "575002 + 0 read2\n",
    "1046208 + 0 properly paired (90.97% : N/A)\n",
    "1049400 + 0 with itself and mate mapped\n",
    "3583 + 0 singletons (0.31% : N/A)\n",
    "646 + 0 with mate mapped to a different chr\n",
    "583 + 0 with mate mapped to a different chr (mapQ>=5)\n",
    "```\n",
    "\n",
    "```\n",
    "async.wait()\n",
    "\n",
    "def optimize_sequence(self, _iterid, seq, region):\n",
    "    \"\"\"\n",
    "    \n",
    "    \"\"\"\n",
    "    "
   ]
  },
  {
   "cell_type": "markdown",
   "metadata": {},
   "source": [
    "We have 91.56% reads mapped to genome."
   ]
  },
  {
   "cell_type": "markdown",
   "metadata": {},
   "source": [
    "### Trimming the BAM file\n",
    "\n",
    "Looking at the BAM file, we can see alignments in a number of different chromosomes.  Since we know that the intended alignment was for the EGFR gene on Chromosome 7, we can subsect the BAM file using samtools:\n",
    "\n",
    "```\n",
    "samtools view -b aln_sorted.bam 7:55242300-55242600 > amplicon1.bam\n",
    "samtools view -b aln_sorted.bam 7:55241500-55241850 > amplicon2.bam\n",
    "samtools view -b aln_sorted.bam 7:55259300-55259600 > amplicon3.bam\n",
    "samtools view -b aln_sorted.bam 7:55248900-55249250 > amplicon4.bam\n",
    "```\n",
    "\n",
    "We can look at the specific intervals for each primer pair in Broad's Integrative Genome Viewer (IGV).\n",
    "\n",
    "| Primer Pair | Interval (Chrm. 7) |\n",
    "|:------------|:-------------------|\n",
    "| 1 | 55242300-55242600 |\n",
    "| 2 | 55241500-55241850 |\n",
    "| 3 | 55259300-55259600 |\n",
    "| 4 | 55248900-55249250 |\n",
    "\n",
    "We can take a look at all the flags\n",
    "\n",
    "```\n",
    "samtools view amplicon1.bam | cut -f2 | sort -u > bamflags.txt\n",
    "```\n",
    "\n",
    "- 133: read paired, read unmapped, second in pair\n",
    "- 145: read paired, read reverse strand, second in pair\n",
    "- 147: read paired, read mapped in proper pair, read reverse strand, second in pair\n",
    "- 153: read paired, mate unmapped, read reverse strand, second in pair\n",
    "- 177: read paired, read reverse strand, mate reverse strand, second in pair\n",
    "- 65: read paired, first in pair\n",
    "- 69: read paired, reads unmapped, first in pair\n",
    "- 73: read paired, mate unmapped, first in pair\n",
    "- 97: read paired, mate reverse strand, first in pair\n",
    "- 99: read paired, rad mapped in proper pair, mate reverse strand, first in pair\n",
    "\n"
   ]
  },
  {
   "cell_type": "markdown",
   "metadata": {},
   "source": [
    "__Primer Pair 1__\n",
    "\n",
    "The first amplicon seems to have two sets, one with a 15-bp insertion, and one without.  It also seems like only a small handful seem clean.\n",
    "\n",
    "![primer-pair1.1](./../docs/images/primerpair1-1.png)\n",
    "![primer-pair1.2](./../docs/images/primerpair1-2.png)\n",
    "![primer-pair1.3](./../docs/images/primerpair1-3.png)\n",
    "![primer-pair1.4](./../docs/images/primerpair1-4.png)"
   ]
  },
  {
   "cell_type": "markdown",
   "metadata": {},
   "source": [
    "__Primer Pair 2__\n",
    "\n",
    "![primer-pair2.1](./../docs/images/primerpair2-1.png)\n",
    "![primer-pair2.2](./../docs/images/primerpair2-2.png)\n",
    "![primer-pair2.3](./../docs/images/primerpair2-3.png)\n",
    "![primer-pair2.4](./../docs/images/primerpair2-4.png)\n",
    "![primer-pair2.5](./../docs/images/primerpair2-5.png)"
   ]
  },
  {
   "cell_type": "markdown",
   "metadata": {},
   "source": [
    "__Primer Pair 3__\n",
    "\n",
    "\n",
    "![primer-pair3.1](./../docs/images/primerpair3-1.png)\n",
    "![primer-pair3.2](./../docs/images/primerpair3-2.png)\n",
    "![primer-pair3.3](./../docs/images/primerpair3-3.png)\n",
    "![primer-pair3.4](./../docs/images/primerpair3-4.png)\n"
   ]
  },
  {
   "cell_type": "markdown",
   "metadata": {},
   "source": [
    "__Primer Pair 4__\n",
    "\n",
    "The amplicon for Primer Pair 4 seems to indicate a G > A mutation in position 55,249,063 of Chromosome 7.\n",
    "\n",
    "![primer-pair4.1](./../docs/images/primerpair4-1.png)\n",
    "![primer-pair4.2](./../docs/images/primerpair4-2.png)\n",
    "![primer-pair4.3](./../docs/images/primerpair4-3.png)\n",
    "![primer-pair4.4](./../docs/images/primerpair4-4.png)\n"
   ]
  },
  {
   "cell_type": "markdown",
   "metadata": {},
   "source": [
    "### Calling Variants\n",
    "\n",
    "```\n",
    "freebayes --fasta-reference chrm7.fa amplicon1.bam > amplicon1.var\n",
    "bgzip amplicon1.var\n",
    "tabix -p vcf amplicon1.vcf.gz\n",
    "```"
   ]
  },
  {
   "cell_type": "markdown",
   "metadata": {},
   "source": [
    "## Methods"
   ]
  },
  {
   "cell_type": "markdown",
   "metadata": {},
   "source": [
    "### Workflow\n",
    "\n",
    "1. [Quality Control and Preprocessing](#quality-control-and-preprocessing)\n",
    "2. [Alignment](#alignment)\n",
    "3. [Alignment Postprocessing](#alignment-postprocessing)\n",
    "4. [Variant Calling](#variant-calling)\n",
    "5. [Variant Filtering](#variant-filtering)"
   ]
  },
  {
   "cell_type": "markdown",
   "metadata": {},
   "source": [
    "### Tools"
   ]
  },
  {
   "cell_type": "markdown",
   "metadata": {},
   "source": [
    "__Database Access__:\n",
    "\n",
    "- ~~[cruzdb](https://github.com/brentp/cruzdb): UCSC genomes database~~ \n",
    "- [pyensembl](https://github.com/openvax/pyensembl): Ensembl\n",
    "- ~~[bioservices](https://github.com/cokelaer/bioservices): ArrayExpress, BioModels, ChEBI, KEGG, PDB, Uniprot, UniChem, NCBIBlast~~\n",
    "\n",
    "__File Handling__:\n",
    " \n",
    "- [bamnostic](https://github.com/betteridiot/bamnostic): `BAM`\n",
    "- [pyVCF](https://github.com/jamescasbon/PyVCF): `VCF`\n",
    "- [pyfaidx](https://github.com/mdshw5/pyfaidx): `FASTA`\n",
    "- [fastq-and-furious](https://github.com/lgautier/fastq-and-furious): `FASTQ`\n",
    "- ~~[cyvcf2](https://github.com/brentp/cyvcf2): `VCF` and `BCF`~~\n",
    "- [pysam](https://github.com/pysam-developers/pysam): `SAM`, `BAM`, `VCF`, and `BCF`\n",
    "- [pybedtools](https://github.com/daler/pybedtools): `BAM`, `SAM`, `BED`, `BCF`, `VCF`, `GFF`, and `GTF` \n",
    "- [htseq](https://github.com/simon-anders/htseq): `FASTQ`, `BAM`, `SAM`, `VCF`, `BED`\n",
    "- [biopython](https://github.com/biopython/biopython): DNA, RNA, Proteins, `FASTQ`\n",
    "- [scikit-allel](https://github.com/cggh/scikit-allel): `VCF`\n",
    "\n",
    "* trouble installing cyVCF2\n",
    "\n",
    "__Quality Control__:\n",
    "\n",
    "- ~~[AfterQC](https://github.com/OpenGene/AfterQC): `FASTQ` file Processing~~\n",
    "- [fastqp](https://github.com/mdshw5/fastqp): `FASTQ`, `BAM`, and `SAM` file Processing\n",
    "- ~~[bam-toolbox](https://github.com/AndersenLab/bam-toolbox) `BAM` coverage~~\n",
    "- ~~[mergesam](https://github.com/DarwinAwardWinner/mergesam): `SAM` and `BAM` conversion and merging and sorting~~\n",
    "\n",
    "__Variant Calling__:\n",
    "\n",
    "- [freebayes](https://github.com/ekg/freebayes): a haplotype-based variant detector\n",
    "- [gatk](https://software.broadinstitute.org/gatk/): assortment of variant callers\n",
    "- [bcftools](http://www.htslib.org/): assortment of variant callers\n",
    "\n",
    "__Visualization__:\n",
    "\n",
    "- ~~[Biodalliance](https://github.com/dasmoth/dalliance): visualize `BAM`, `VCF`~~\n",
    "- [GenomeView](https://github.com/nspies/genomeview): visualize `BAM`\n",
    "- [plotly](https://github.com/plotly): general-purpose graphing library\n",
    "- [seaborn](https://github.com/mwaskom/seaborn): general-purpose graphing library\n",
    "- [altair](https://github.com/altair-viz/altair): statistical visualization\n",
    "\n",
    "__Report Generation__:\n",
    "\n",
    "- [MultiQC](https://github.com/ewels/MultiQC): Aggregate results from bioinformatics analyses across many samples into a single report\n",
    "- [Jupyter Notebook](https://github.com/jupyter/notebook)\n",
    "- [pyPipeline](https://github.com/AndersenLab/pyPipeline)\n",
    "- [bcbio](https://github.com/bcbio/bcbio-nextgen)\n",
    "\n",
    "__Math/Stat__:\n",
    "\n",
    "- [pandas](https://github.com/pandas-dev/pandas)\n",
    "- [scipy](https://github.com/scipy/scipy)\n",
    "- [cython](https://github.com/cython/cython)\n",
    "\n",
    "__Tutorials__:\n",
    "\n",
    "- [samtools tutorial](http://quinlanlab.org/tutorials/samtools/samtools.html)\n",
    "- [ngs alignment and variant calling](https://github.com/ekg/alignment-and-variant-calling-tutorial)\n",
    "- [scikit-allel](http://alimanfoo.github.io/2017/06/14/read-vcf.html)\n",
    "- [genomic data visualization](http://fullstackdatascientist.io/15/03/2016/genomic-data-visualization-using-python/)"
   ]
  },
  {
   "cell_type": "markdown",
   "metadata": {},
   "source": [
    "### Quality Control and Preprocessing"
   ]
  },
  {
   "cell_type": "markdown",
   "metadata": {},
   "source": [
    "The main purpose of pre-processing is to keep low-quality reads from entering the variant evaluation procedure. Read quality is typically measured by average base quality score, mapping quality score, and number of mismatches from the reference genome, etc. \n",
    "\n",
    "| __Input__ | __Output__ |\n",
    "|:----------|:-----------|\n",
    "| `FASTQ` | `FASTQ` |"
   ]
  },
  {
   "cell_type": "markdown",
   "metadata": {},
   "source": [
    "1. __Trimming__: removal of low quality sequences\n",
    "2. __Demultiplexing__:\n",
    "3. __Removal of Adapters and Primers__: already done.\n",
    "4. __Error_Correction__:\n",
    "5. __Detection of Enrichment Biases__:"
   ]
  },
  {
   "cell_type": "markdown",
   "metadata": {},
   "source": [
    "### Alignment"
   ]
  },
  {
   "cell_type": "markdown",
   "metadata": {},
   "source": [
    "This is the initial alignment and the first `BAM`/`SAM` file generated.  For reads from 70bp up to a few megabases we recommend using BWA MEM to map the data to a given reference genome.  `aln.bam` is aligned with bowtie2.\n",
    "\n",
    "| __Input__ | __Output__ |\n",
    "|:----------|:-----------|\n",
    "| `FASTQ` | `SAM`, `BAM` |"
   ]
  },
  {
   "cell_type": "markdown",
   "metadata": {},
   "source": [
    "### Alignment Postprocessing"
   ]
  },
  {
   "cell_type": "markdown",
   "metadata": {},
   "source": [
    "- A correctly aligned region (reads are shown as gray vertical bars with SNPs indicated as colored letters). \n",
    "- A spurious alignment where reads exhibit many small insertions (indicated as purple Is), deletions (shown as black horizontal lines) and SNPs.\n",
    "\n",
    "| __Input__ | __Output__ |\n",
    "|:----------|:-----------|\n",
    "| `SAM`, `BAM` | `SAM`, `BAM` |"
   ]
  },
  {
   "cell_type": "markdown",
   "metadata": {},
   "source": [
    "1. __Local realignment around indels or__:\n",
    "2. __Calculation of per-base Base Quality scores (BAQ)__:\n",
    "3. __Removal of Duplications__: Sorted `BAM` file is needed for this.\n",
    "4. __Recalibration of Base Quality Scores__:"
   ]
  },
  {
   "cell_type": "markdown",
   "metadata": {},
   "source": [
    "### Variant Calling"
   ]
  },
  {
   "cell_type": "markdown",
   "metadata": {},
   "source": [
    "Depending on the type of input data and the intended application, the algorithms can be summarized to four categories: \n",
    "\n",
    "- matched tumor-normal variant calling\n",
    "- single-sample variant calling \n",
    "- UMI-based variant calling\n",
    "- RNAseq variant calling\n",
    "\n",
    "As the samples analyzed in this report are generated from a single-sample amplicon sequencing, we will only look at `single-sample variant calllinng` methods.\n",
    "\n",
    "| __Input__ | __Output__ |\n",
    "|:----------|:-----------|\n",
    "| `SAM`, `BAM` | `VCF`, `BCF` |"
   ]
  },
  {
   "cell_type": "markdown",
   "metadata": {},
   "source": [
    "| Name | Type of Variant | Description | Reference |\n",
    "|:-----|:----------------|:------------|:----------|\n",
    "| FaSD-somatic |SNV | Joint genotype analysis | [[Link]](http://jjwanglab.org/FaSD-somatic/) |\n",
    "| FreeBayes | SNV, indel | Haplotype analysis | [[GitHub]](https://github.com/ekg/freebayes) |\n",
    "| HapMuC | SNV, indel | Haplotype analysis | [[GitHub]](https://github.com/usuyama/hapmuc) |\n",
    "| LoFreq | SNV, indel | Allele frequency analysis | [[GitHub]](https://github.com/CSB5/lofreq) |\n",
    "| MuTect | SNV | Allele frequency analysis | [[Link]](https://software.broadinstitute.org/cancer/cga/mutect)[[GitHub]](https://github.com/broadinstitute/mutect) |\n",
    "| SAMtools | SNV, indel | Joint genotype analysis | [[Link]](http://www.htslib.org/)[[GitHub]](https://github.com/samtools/samtools) | \n",
    "| Platypus | SNV, indel, SV | Haplotype analysis | [[GitHub]](https://github.com/andyrimmer/Platypus) |\n",
    "| SNooPer | SNV, indel | Machine learning | [[Link]](https://sourceforge.net/p/snooper/wiki/User%20Manual/) |\n",
    "| SNVSniffer | SNV, indel | Joint genotype analysis | [[Link]](http://snvsniffer.sourceforge.net/homepage.htm) |\n",
    "| VarDict | SNV, indel, SV | Heuristic threshold | [[GitHub]](https://github.com/AstraZeneca-NGS/VarDict) |\n",
    "| VarScan2 | SNV, indel | Heuristic threshold | [[Link]](http://dkoboldt.github.io/varscan/) |"
   ]
  },
  {
   "cell_type": "markdown",
   "metadata": {},
   "source": [
    "1. __Variant Analysis__: To convert your BAM file into genomic positions we first use mpileup to produce a BCF file that contains all of the locations in the genome. We use this information to call genotypes and reduce our list of sites to those found to be variant by passing this file into bcftools call.\n",
    "\n",
    "    ```\n",
    "    bcftools mpileup -Ou -f Homo_sapiens.GRCh37.dna_sm.toplevel.fa aln.bam | bcftools call -mv -Ob -o alncalls.bcf\n",
    "    ```\n",
    "\n",
    "    - __Copy Number Variation__: sensitive detection of copy number alterations, aneuploidy and contamination.\n",
    "    - __Consequence Calling__: haplotype-aware variant calling\n",
    "    - __Consensus Calling__: Sometimes there is the need to create a consensus sequence for an individual where the sequence incorporates variants typed for this individual.\n",
    "    - __ROH Calling__: detects regions of autozygosity in sequencing data, including exome data, using a hidden Markov model.\n",
    "    - __Variant Simulation__: Add mutations to existing BAM files to test mutation callers.  `Bam Surgeon` and `wgsim` are good candidate tools.\n",
    "\n",
    "2. __Annotation Mining__: The location is `1:[326216,326357)/-` for `hg19`.  Can we try to mine the literature for possible targets?\n",
    "\n",
    "3. __Experiment QC__: Is there something in the meta-data that we can see that can help explan the data?\n",
    "\n",
    "4. __FDR Correction__: Variants are passed if they've cleared both FreeBayes, GATK HaplotypeCaller, and Vardict.\n"
   ]
  },
  {
   "cell_type": "markdown",
   "metadata": {},
   "source": [
    "### Post-Filtering"
   ]
  },
  {
   "cell_type": "markdown",
   "metadata": {},
   "source": [
    "Sequencing or alignment artifacts may appear to have strong read evidence and trick the statistical model to pass them as real variants.  Most variant callers apply a set of filters to identify these artifacts and hence improve the specificity."
   ]
  },
  {
   "cell_type": "markdown",
   "metadata": {},
   "source": [
    "- Strand bias filter\n",
    "- hard thresholds set by variant callers (empirically defined)\n",
    "- filters focus on repetitive regions"
   ]
  },
  {
   "cell_type": "markdown",
   "metadata": {},
   "source": [
    "- \n",
    "\n",
    "\n",
    "- __Coverage histogram in amplicon region__:  This is a distribution of coverage inside the amplicon regions. The function parses region by region and get the coverage of all the samples provided, then render a histogram with X axis being the coverage\n",
    "- __Cumulative coverage saturation plot__: This is the same as before, instead we render a cumulative histogram, it can be useful, you can see how bad the NSG sample renders for example\n",
    "- __Mapping qualities in amplicon regions__: This is a stacked histogram that renders the mapping qualities inside the amplicon regions, we can see that NSG is again failing and that we have a mapping qualities around 42 in this example in particular\n",
    "- __Targeted regions coverage__: This is the so called CDF function of coverage per sample inside the target regions\n",
    "- __Coverage heatmap inside amplicon regions__: This plot is another view of coverage inside amplicon region, it places all the samples side by side and render all the row as a heatmap, I did 2 examples here, one with a crazy sample like the NSG one and one without"
   ]
  },
  {
   "cell_type": "markdown",
   "metadata": {},
   "source": [
    "## Exploration"
   ]
  },
  {
   "cell_type": "markdown",
   "metadata": {},
   "source": [
    "## Bash History\n",
    "\n",
    "__To Index Reference__:\n",
    "\n",
    "```\n",
    "bwa index reference.fa\n",
    "```\n",
    "\n",
    "__To Sort BAM__:\n",
    "\n",
    "```bash\n",
    "samtools sort ./../../notebooks/data/original_files/aln.bam > ./../../notebooks/data/samtools_output/aln_sorted.bam\n",
    "```\n",
    "\n",
    "__To Index BAM__:\n",
    "\n",
    "```bash\n",
    "samtools index ./../../notebooks/data/samtools_output/aln_sorted.bam ./../../notebooks/data/samtools_output/aln_sorted.bam.bai\n",
    "```\n",
    "\n",
    "__Call Variants__:\n",
    "\n",
    "```\n",
    "freebayes --fasta-reference ./../../Reference_Sequence/Homo_sapiens.GRCh37/Homo_sapiens.GRCh37.dna_sm.toplevel.fa ./../../notebooks/data/samtools_output/aln_sorted.bam > ./../../notebooks/data/freebayes_output/var.vcf\n",
    "```\n",
    "\n",
    "```\n",
    "bcftools mpileup -Ou -d 150004 -f ./../../Reference_Sequence/Homo_sapiens.GRCh37/Homo_sapiens.GRCh37.dna_sm.toplevel.fa  ./../../notebooks/data/samtools_output/aln_sorted.bam | bcftools call -mv -Ob -o ./../../notebooks/data/bcftools_output/var150004.bcf\n",
    "```\n",
    "\n",
    "```\n",
    "bcftools mpileup -d 150004 -f ./../../Reference_Sequence/Homo_sapiens.GRCh37/Homo_sapiens.GRCh37.dna_sm.toplevel.fa  ./../../notebooks/data/samtools_output/aln_sorted.bam | bcftools call -mv -Oz -o ./../../notebooks/data/bcftools_output/var150004.vcf\n",
    "```\n",
    "\n",
    "\n",
    "__Call Filtering__:"
   ]
  },
  {
   "cell_type": "markdown",
   "metadata": {},
   "source": [
    "## Discussion"
   ]
  },
  {
   "cell_type": "markdown",
   "metadata": {},
   "source": [
    "## References"
   ]
  },
  {
   "cell_type": "markdown",
   "metadata": {},
   "source": [
    "Schirmer, Melanie, et al. \"**Insight into biases and sequencing errors for amplicon sequencing with the Illumina MiSeq platform.**\" Nucleic acids research 43.6 (2015): e37-e37.\n",
    "\n",
    "Laehnemann, David, Arndt Borkhardt, and Alice Carolyn McHardy. \"**Denoising DNA deep sequencing data—high-throughput sequencing errors and their correction.**\" Briefings in bioinformatics 17.1 (2015): 154-179.\n",
    "\n",
    "Xu, Chang. \"**A review of somatic single nucleotide variant calling algorithms for next-generation sequencing data.**\" Computational and structural biotechnology journal 16 (2018): 15-24.\n",
    "\n",
    "Pfeifer, S. P. \"**From next-generation resequencing reads to a high-quality variant data set.**\" Heredity 118.2 (2017): 111.\n",
    "\n",
    "Tian, Rui, Malay K. Basu, and Emidio Capriotti. \"**Computational methods and resources for the interpretation of genomic variants in cancer.**\" BMC genomics 16.8 (2015): S7."
   ]
  },
  {
   "cell_type": "markdown",
   "metadata": {},
   "source": [
    "\n",
    "\n",
    "__From BCFTools__\n",
    "\n",
    "- Copy number variation\n",
    "- Consequence calling \n",
    "- Detecting Runs of homozygocity\n",
    "- Variant Calling\n",
    "- ASSAY_TYPES = (\"presence/absence\", \"SNP\", \"gene variant\", \"ROI\", \"mixed\")\n",
    "\n",
    "\n",
    "### Workflow \n",
    "\n",
    "1.  adapter, and optionally, quality trimming using Trimmomatic\n",
    "2.  aligned to the reference amplicon sequences\n",
    "3.  BAM files are analyzed with a custom Python script using the pysam and scikit-bio libraries to aid in analysis\n",
    "4.  combines the alignment data in the BAM file with the assay data in the JSON file and interprets the results\n",
    "\n",
    "\n",
    "\n",
    "    \n",
    "    \n",
    "    - alignment evaluation\n",
    "    - read evaluation\n",
    "    "
   ]
  }
 ],
 "metadata": {
  "kernelspec": {
   "display_name": ".venv",
   "language": "python",
   "name": ".venv"
  },
  "language_info": {
   "codemirror_mode": {
    "name": "ipython",
    "version": 3
   },
   "file_extension": ".py",
   "mimetype": "text/x-python",
   "name": "python",
   "nbconvert_exporter": "python",
   "pygments_lexer": "ipython3",
   "version": "3.6.7"
  }
 },
 "nbformat": 4,
 "nbformat_minor": 2
}
