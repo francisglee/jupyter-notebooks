{
 "cells": [
  {
   "cell_type": "markdown",
   "metadata": {},
   "source": [
    "# Working with FASTQ files in Python"
   ]
  },
  {
   "cell_type": "markdown",
   "metadata": {},
   "source": [
    "## Table of Contents"
   ]
  },
  {
   "cell_type": "markdown",
   "metadata": {},
   "source": [
    "1. [Available Tools](#available-tools)"
   ]
  },
  {
   "cell_type": "markdown",
   "metadata": {},
   "source": [
    "## Available Tools"
   ]
  },
  {
   "cell_type": "markdown",
   "metadata": {},
   "source": [
    "- [htseq](https://github.com/simon-anders/htseq)\n",
    "- [fastq-and-furious](https://github.com/lgautier/fastq-and-furious)\n",
    "- [biopython](https://github.com/biopython/biopython)\n",
    "- [fastqp](https://github.com/mdshw5/fastqp) "
   ]
  },
  {
   "cell_type": "code",
   "execution_count": 1,
   "metadata": {},
   "outputs": [],
   "source": [
    "import os\n",
    "import sys\n",
    "import time\n",
    "import itertools\n",
    "\n",
    "import numpy as np\n",
    "import pandas as pd\n",
    "\n",
    "import HTSeq as hs\n",
    "import fastqandfurious as ff\n",
    "from Bio import SeqIO"
   ]
  },
  {
   "cell_type": "code",
   "execution_count": 2,
   "metadata": {},
   "outputs": [
    {
     "data": {
      "text/plain": [
       "'/home/ifrancium/Documents/sophiagenetics-francisglee/notebooks'"
      ]
     },
     "execution_count": 2,
     "metadata": {},
     "output_type": "execute_result"
    }
   ],
   "source": [
    "os.getcwd()"
   ]
  },
  {
   "cell_type": "code",
   "execution_count": 3,
   "metadata": {},
   "outputs": [
    {
     "data": {
      "text/plain": [
       "['aln.bam', 'aln1.fastq', 'aln.bam.bai', 'aln2.fastq']"
      ]
     },
     "execution_count": 3,
     "metadata": {},
     "output_type": "execute_result"
    }
   ],
   "source": [
    "os.listdir('./data/original_files')"
   ]
  },
  {
   "cell_type": "code",
   "execution_count": 4,
   "metadata": {},
   "outputs": [],
   "source": [
    "aln1_FASTQ_path = '/home/ifrancium/Documents/sophiagenetics-francisglee/notebooks/data/original_files/aln1.fastq'\n",
    "aln2_FASTQ_path = '/home/ifrancium/Documents/sophiagenetics-francisglee/notebooks/data/original_files/aln2.fastq'"
   ]
  },
  {
   "cell_type": "markdown",
   "metadata": {},
   "source": [
    "So there appears to be a few different standards for Phred Scores.  I believe we have the MiSeq Illumina version, as indicated from the BAM file.  So when using Biopython's SeqIO, we need to specify as such."
   ]
  },
  {
   "cell_type": "code",
   "execution_count": 8,
   "metadata": {},
   "outputs": [],
   "source": [
    "aln1_fastq = SeqIO.parse(aln1_FASTQ_path, \"fastq\")\n",
    "aln2_fastq = SeqIO.parse(aln2_FASTQ_path, \"fastq\")"
   ]
  },
  {
   "cell_type": "markdown",
   "metadata": {},
   "source": [
    "Let's see how many reads there are in each FASTQ file."
   ]
  },
  {
   "cell_type": "code",
   "execution_count": 6,
   "metadata": {},
   "outputs": [
    {
     "name": "stdout",
     "output_type": "stream",
     "text": [
      "There are 575002 reads in aln1.fastq\n",
      "There are 575002 reads in aln2.fastq\n"
     ]
    }
   ],
   "source": [
    "aln1_count = 0\n",
    "aln2_count = 0\n",
    "\n",
    "for read in aln1_fastq:\n",
    "    aln1_count += 1\n",
    "\n",
    "for read in aln2_fastq:\n",
    "    aln2_count += 1\n",
    "    \n",
    "print(\"There are {} reads in aln1.fastq\".format(aln1_count))\n",
    "print(\"There are {} reads in aln2.fastq\".format(aln2_count))"
   ]
  },
  {
   "cell_type": "markdown",
   "metadata": {},
   "source": [
    "Biopython's SeqIO allows us to view the Phred Scores in a few different formats:"
   ]
  },
  {
   "cell_type": "code",
   "execution_count": 9,
   "metadata": {},
   "outputs": [
    {
     "name": "stdout",
     "output_type": "stream",
     "text": [
      "ID: M01636:3:000000000-A442D:1:1101:15821:1569\n",
      "Name: M01636:3:000000000-A442D:1:1101:15821:1569\n",
      "Description: M01636:3:000000000-A442D:1:1101:15821:1569 2:N:0:1\n",
      "Number of features: 0\n",
      "Per letter annotation for: phred_quality\n",
      "Seq('NAGAAAAGGTGGGCCTGAGGTTCAGAGCCATGGACCCCCACACAGCAAAGCAGA...GAT', SingleLetterAlphabet())\n",
      "\n",
      "\n",
      "M01636:3:000000000-A442D:1:1101:15821:1569 Phred Scores:  [2, 29, 29, 32, 32, 32, 37, 33, 32, 16, 33, 32, 36, 38, 38, 37, 32, 37, 38, 38, 37, 38, 39, 38, 39, 34, 38, 15, 38, 39, 33, 16, 38, 38, 39, 39, 38, 38, 38, 38, 38, 38, 38, 38, 39, 38, 37, 39, 39, 39, 39, 38, 38, 37, 33, 33, 38, 37, 39, 35, 39, 39, 39, 37, 38, 39, 37, 36, 36, 39, 38, 38, 37, 37, 39, 38, 39, 37, 37, 39, 39, 39, 39, 39, 39, 37, 38, 38, 38, 38, 14, 38, 38, 37, 17, 38, 37, 39, 39, 39, 37, 39, 37, 38, 16, 38, 39, 39, 39, 39, 39, 38, 38, 38, 33, 17, 36, 38, 36, 36, 31, 34, 33, 34, 30, 27, 31, 37, 39, 39, 17, 33, 35, 38, 37, 39, 37, 38, 38, 38, 39, 38, 38, 38, 37, 37, 30, 37, 38, 15, 30]\n",
      "\n",
      "\n",
      "@M01636:3:000000000-A442D:1:1101:15821:1569 2:N:0:1\n",
      "NAGAAAAGGTGGGCCTGAGGTTCAGAGCCATGGACCCCCACACAGCAAAGCAGAAACTCACATCGAGGATTTCCTTGTTGGCTTTCGGAGATGTTGCTTCTCTTAATTCCTTGATAGCGACGGGAATTTTAACTTTCTCACCTTCTGGGAT\n",
      "+\n",
      "B]]```ea`Pa`dffe`effefgfgbfOfgaPffggffffffffgfeggggffeaafegcgggefgeddgffeegfgeeggggggeffffNffeQfegggegefPfgggggfffaQdfdd_bab^[_eggQacfegefffgfffee^efO^\n",
      "\n",
      "\n",
      "\n",
      "@M01636:3:000000000-A442D:1:1101:15821:1569 2:N:0:1\n",
      "NAGAAAAGGTGGGCCTGAGGTTCAGAGCCATGGACCCCCACACAGCAAAGCAGAAACTCACATCGAGGATTTCCTTGTTGGCTTTCGGAGATGTTGCTTCTCTTAATTCCTTGATAGCGACGGGAATTTTAACTTTCTCACCTTCTGGGAT\n",
      "+\n",
      "#>>AAAFBA1BAEGGFAFGGFGHGHCG0GHB1GGHHGGGGGGGGHGFHHHHGGFBBGFHDHHHFGHFEEHGGFFHGHFFHHHHHHFGGGG/GGF2GFHHHFHFG1GHHHHHGGGB2EGEE@CBC?<@FHH2BDGFHFGGGHGGGFF?FG0?\n",
      "\n",
      "\n",
      "\n",
      "@M01636:3:000000000-A442D:1:1101:15821:1569 2:N:0:1\n",
      "NAGAAAAGGTGGGCCTGAGGTTCAGAGCCATGGACCCCCACACAGCAAAGCAGAAACTCACATCGAGGATTTCCTTGTTGGCTTTCGGAGATGTTGCTTCTCTTAATTCCTTGATAGCGACGGGAATTTTAACTTTCTCACCTTCTGGGAT\n",
      "+\n",
      ">]]```ea`Pa`dffe`effefgfgbfOfgaPffggffffffffgfeggggffeaafegcgggefgeddgffeegfgeeggggggeffffNffeQfegggegefPfgggggfffaQdfdd_bab^[_eggQacfegefffgfffee^efO^\n",
      "\n"
     ]
    }
   ],
   "source": [
    "count = 1\n",
    "\n",
    "for index, record in enumerate(itertools.islice(aln2_fastq, count)):\n",
    "    print(record)\n",
    "    print('\\n')\n",
    "    print(record.id, \"Phred Scores: \", record.letter_annotations[\"phred_quality\"])\n",
    "    print('\\n')\n",
    "    print(record.format(\"fastq-illumina\"))\n",
    "    print('\\n')\n",
    "    print(record.format(\"fastq\")) # fastq-sanger\n",
    "    print('\\n')\n",
    "    print(record.format(\"fastq-solexa\"))"
   ]
  },
  {
   "cell_type": "markdown",
   "metadata": {},
   "source": [
    "Seems like Phred encoding is Phred+33."
   ]
  },
  {
   "cell_type": "code",
   "execution_count": 10,
   "metadata": {},
   "outputs": [
    {
     "name": "stdout",
     "output_type": "stream",
     "text": [
      "<class 'generator'>\n"
     ]
    }
   ],
   "source": [
    "print(type(aln1_fastq))"
   ]
  },
  {
   "cell_type": "markdown",
   "metadata": {},
   "source": [
    "Seems like `SeqIO.parse()` creates a generator.  We can't store the FASTQ data using `SeqIO.parse`.  Bummer."
   ]
  },
  {
   "cell_type": "markdown",
   "metadata": {},
   "source": [
    "Looks like at a first glance, these FASTQ files are RAW and not processed.  Let's see what the primer distributions are."
   ]
  },
  {
   "cell_type": "markdown",
   "metadata": {},
   "source": [
    "| Forward Primers | Reverse Primers | \n",
    "|:----------------|:----------------|\n",
    "| TTGCCAGTTAACGTCTTCCTTCTCTCTCTG | GAGAAAAGGTGGGCCTGAGGTTCAGAGCCA |   \n",
    "| CCCTTGTCTCTGTGTTCTTGTCCCCCCCA | CCCCACCAGACCATGAGAGGCCCTGCGGCC |    \n",
    "| TGATCTGTCCCTCACAGCAGGGTCTTCTCT | TGACCTAAAGCCACCTCCTTA |\n",
    "| CACACTGACGTGCCTCTCCCTCCCTCCA | CCGTATCTCCCTTCCCTGATTA |\n",
    "   "
   ]
  },
  {
   "cell_type": "markdown",
   "metadata": {},
   "source": [
    "#### Let's use a different library to parse FASTQ: fastq-and-furious."
   ]
  },
  {
   "cell_type": "code",
   "execution_count": null,
   "metadata": {},
   "outputs": [],
   "source": []
  },
  {
   "cell_type": "code",
   "execution_count": 11,
   "metadata": {},
   "outputs": [
    {
     "name": "stdout",
     "output_type": "stream",
     "text": [
      "ID: M01636:3:000000000-A442D:1:1101:15821:1569\n",
      "Name: M01636:3:000000000-A442D:1:1101:15821:1569\n",
      "Description: M01636:3:000000000-A442D:1:1101:15821:1569 1:N:0:1\n",
      "Number of features: 0\n",
      "Per letter annotation for: phred_quality\n",
      "Seq('TTGCCAGTTAACGTCTTCCTTCTCTCTCTGTCATAGGGACTCTGGATCCCAGAA...TTG', SingleLetterAlphabet())\n",
      "ID: M01636:3:000000000-A442D:1:1101:17381:1570\n",
      "Name: M01636:3:000000000-A442D:1:1101:17381:1570\n",
      "Description: M01636:3:000000000-A442D:1:1101:17381:1570 1:N:0:1\n",
      "Number of features: 0\n",
      "Per letter annotation for: phred_quality\n",
      "Seq('CACACTGACGTGCCTCTCCCTCCCTCCAGGAAGCCTACGTGATGGCCAGCGTGG...TGT', SingleLetterAlphabet())\n"
     ]
    }
   ],
   "source": [
    "count = 2\n",
    "\n",
    "for index, record in enumerate(itertools.islice(aln1_fastq, count)):\n",
    "    print(record)"
   ]
  },
  {
   "cell_type": "code",
   "execution_count": null,
   "metadata": {},
   "outputs": [],
   "source": [
    "aln1_FASTQ_df = pd.read_csv(aln1_FASTQ_path)"
   ]
  },
  {
   "cell_type": "code",
   "execution_count": null,
   "metadata": {},
   "outputs": [],
   "source": [
    "print(aln1_FASTQ_df.index)"
   ]
  },
  {
   "cell_type": "code",
   "execution_count": null,
   "metadata": {},
   "outputs": [],
   "source": [
    "print(aln1_FASTQ_df.columns)"
   ]
  },
  {
   "cell_type": "code",
   "execution_count": null,
   "metadata": {},
   "outputs": [],
   "source": [
    "aln1_FASTQ_df.head(30)"
   ]
  },
  {
   "cell_type": "code",
   "execution_count": null,
   "metadata": {
    "scrolled": true
   },
   "outputs": [],
   "source": [
    "phred_scores = aln1_FASTQ_df['Phred Score']\n",
    "\n",
    "print(phred_scores[0], type(phred_scores[0]))"
   ]
  },
  {
   "cell_type": "code",
   "execution_count": null,
   "metadata": {},
   "outputs": [],
   "source": [
    "for index, score_set in enumerate(phred_scores):\n",
    "    if index > 10:\n",
    "        break\n",
    "    else:\n",
    "        print(index, score_set)\n",
    "    "
   ]
  },
  {
   "cell_type": "code",
   "execution_count": null,
   "metadata": {},
   "outputs": [],
   "source": [
    "score_list = [int(x) for x in phred_scores[0].lstrip(\"[\").rstrip(\"]\").split(\" \")]\n",
    "print(score_list)\n",
    "\n",
    "score_array = np.asarray(score_list)\n",
    "print(score_array)"
   ]
  },
  {
   "cell_type": "markdown",
   "metadata": {},
   "source": [
    "#### Python implementation of a fastq reader."
   ]
  },
  {
   "cell_type": "code",
   "execution_count": null,
   "metadata": {},
   "outputs": [],
   "source": []
  },
  {
   "cell_type": "code",
   "execution_count": null,
   "metadata": {},
   "outputs": [],
   "source": []
  },
  {
   "cell_type": "markdown",
   "metadata": {},
   "source": [
    "#### Trimming with Trimmomatic\n",
    "\n",
    "```\n",
    "java -jar trimmomatic-0.38.jar PE -phred33 /home/ifrancium/Documents/sophiagenetics-francisglee/notebooks/data/original_files/aln1.fastq /home/ifrancium/Documents/sophiagenetics-francisglee/notebooks/data/original_files/aln1.fastq /home/ifrancium/Documents/sophiagenetics-francisglee/notebooks/data/trimmomatic_output/output_forward_paired.fq.gz /home/ifrancium/Documents/sophiagenetics-francisglee/notebooks/data/trimmomatic_output/output_forward_unpaired.fq.gz /home/ifrancium/Documents/sophiagenetics-francisglee/notebooks/data/trimmomatic_output/output_reverse_paired.fq.gz /home/ifrancium/Documents/sophiagenetics-francisglee/notebooks/data/trimmomatic_output/output_reverse_unpaired.fq.gz ILLUMINACLIP:TruSeq3-PE.fa:2:30:10 LEADING:3 TRAILING:3 SLIDINGWINDOW:4:15 MINLEN:36\\\n",
    "```"
   ]
  }
 ],
 "metadata": {
  "kernelspec": {
   "display_name": ".venv",
   "language": "python",
   "name": ".venv"
  },
  "language_info": {
   "codemirror_mode": {
    "name": "ipython",
    "version": 3
   },
   "file_extension": ".py",
   "mimetype": "text/x-python",
   "name": "python",
   "nbconvert_exporter": "python",
   "pygments_lexer": "ipython3",
   "version": "3.6.7"
  }
 },
 "nbformat": 4,
 "nbformat_minor": 2
}
