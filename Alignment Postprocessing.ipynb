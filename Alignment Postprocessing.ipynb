{
 "cells": [
  {
   "cell_type": "markdown",
   "metadata": {},
   "source": [
    "# Alignment Postprocessing"
   ]
  },
  {
   "cell_type": "markdown",
   "metadata": {},
   "source": [
    "- A correctly aligned region (reads are shown as gray vertical bars with SNPs indicated as colored letters). \n",
    "- A spurious alignment where reads exhibit many small insertions (indicated as purple Is), deletions (shown as black horizontal lines) and SNPs."
   ]
  },
  {
   "cell_type": "markdown",
   "metadata": {},
   "source": [
    "## Steps"
   ]
  },
  {
   "cell_type": "markdown",
   "metadata": {},
   "source": [
    "1. ~~__Local realignment around indels or__: GATK's IndelRealigner~~\n",
    "2. __Calculation of per-base Base Quality scores (BAQ)__: \n",
    "    - We'll be performing this at a first pass as local realignment is both challenging and computationally intensive.\n",
    "3. __Removal of Duplications__: Barcode2\n",
    "    - Because this is an amplicon sequencing dataset, we'll need to resort to \n",
    "4. __Recalibration of Base Quality Scores__:\n",
    "\n",
    "---\n",
    "\n",
    "__Questions__:\n",
    "- When do we sort BAM files?  Do we even need to?\n"
   ]
  },
  {
   "cell_type": "markdown",
   "metadata": {},
   "source": [
    "## Workflow"
   ]
  },
  {
   "cell_type": "markdown",
   "metadata": {},
   "source": [
    "| __Input__ | __Output__ |\n",
    "|:----------|:-----------|\n",
    "| `SAM`, `BAM` | `SAM`, `BAM` |"
   ]
  },
  {
   "cell_type": "markdown",
   "metadata": {},
   "source": [
    "__To Index Reference__:\n",
    "\n",
    "```\n",
    "bwa index reference.fa\n",
    "```\n",
    "\n",
    "__To Sort BAM__:\n",
    "\n",
    "```bash\n",
    "samtools sort ./../../notebooks/data/original_files/aln.bam > ./../../notebooks/data/samtools_output/aln_sorted.bam\n",
    "```\n",
    "\n",
    "__To Index BAM__:\n",
    "\n",
    "```bash\n",
    "samtools index ./../../notebooks/data/samtools_output/aln_sorted.bam ./../../notebooks/data/samtools_output/aln_sorted.bam.bai\n",
    "```\n",
    "\n",
    "__To Align__:\n",
    "\n",
    "```\n",
    "bwa mem -M -t 2 ./../../Reference_Sequence/Homo_sapiens.GRCh37/chromosomes/Homo_sapiens.GRCh37.dna_sm.chromosome.3.fa ./../../notebooks/data/original_files/aln1.fastq ./../../notebooks/data/original_files/aln1.fastq > ./../../notebooks/data/bwa_output/aln.sam\n",
    "```\n",
    "\n",
    "__Call Variants__:\n",
    "\n",
    "```\n",
    "freebayes --fasta-reference ./../../Reference_Sequence/Homo_sapiens.GRCh37/Homo_sapiens.GRCh37.dna_sm.toplevel.fa ./../../notebooks/data/samtools_output/aln_sorted.bam > ./../../notebooks/data/freebayes_output/var.vcf\n",
    "```\n",
    "\n",
    "\n",
    "```\n",
    "freebayes --fasta-reference ./../../Reference_Sequence/Homo_sapiens.GRCh37/chromosomes/Homo_sapiens.GRCh37.dna_sm.chromosome.3.fa ./../../notebooks/data/samtools_output/aln_sorted.bam > ./../../notebooks/data/freebayes_output/var_chrm3.vcf\n",
    "```\n",
    "\n",
    "```\n",
    "bcftools mpileup -Ou -d 1150004 -f ./../../Reference_Sequence/Homo_sapiens.GRCh37/Homo_sapiens.GRCh37.dna_sm.toplevel.fa  ./../../notebooks/data/samtools_output/aln_sorted.bam | bcftools call -mv -Ob -o ./../../notebooks/data/bcftools_output/var150004.bcf\n",
    "```\n",
    "\n",
    "```\n",
    "bcftools mpileup -d 1150004 -f ./../../Reference_Sequence/Homo_sapiens.GRCh37/Homo_sapiens.GRCh37.dna_sm.toplevel.fa  ./../../notebooks/data/samtools_output/aln_sorted.bam | bcftools call -mv -Oz -o ./../../notebooks/data/bcftools_output/var1150004.vcf\n",
    "```\n",
    "\n",
    "\n",
    "__Call Filtering__:\n"
   ]
  },
  {
   "cell_type": "markdown",
   "metadata": {},
   "source": [
    "Analysis on Chromosome 3\n",
    "\n",
    "[Tutorial](http://quinlanlab.org/tutorials/samtools/samtools.html).\n",
    "[Tutorial](https://github.com/ekg/alignment-and-variant-calling-tutorial)\n",
    "\n",
    "1.  1.  Unzip, Index, and BWA index reference\n",
    "\n",
    "    ```\n",
    "    gunzip ./../../Reference_Sequence/Homo_sapiens.GRCh37/chromosomes/Homo_sapiens.GRCh37.dna_sm.chromosome.1.fa.gz\n",
    "    samtools faidx ./../../Reference_Sequence/Homo_sapiens.GRCh37/chromosomes/Homo_sapiens.GRCh37.dna_sm.chromosome.1.fa\n",
    "    bwa index ./../../Reference_Sequence/Homo_sapiens.GRCh37/chromosomes/Homo_sapiens.GRCh37.dna_sm.chromosome.1.fa\n",
    "    ```\n",
    "\n",
    "1.  Aligning to Chromosome 3\n",
    "\n",
    "    ```\n",
    "    bwa mem -M -t 2 ./../../Reference_Sequence/Homo_sapiens.GRCh37/chromosomes/Homo_sapiens.GRCh37.dna_sm.chromosome.3.fa ./../../notebooks/data/original_files/aln1.fastq ./../../notebooks/data/original_files/aln1.fastq > ./../../notebooks/data/bwa_output/aln_chrm3_raw.sam\n",
    "    ```\n",
    "\n",
    "2.  Sort SAM file\n",
    "\n",
    "    ```\n",
    "    samtools sort ./../../notebooks/data/bwa_output/aln_chrm3_raw.sam > ./../../notebooks/data/samtools_output/aln_chrm3_sorted.sam\n",
    "    ```\n",
    "    \n",
    "3.  Convert SAM to BAM\n",
    "\n",
    "    ```\n",
    "    samtools view -S -b ./../../notebooks/data/samtools_output/aln_chrm3_sorted.sam > ./../../notebooks/data/samtools_output/aln_chrm3_sorted.bam\n",
    "    ```\n",
    "    \n",
    "4.  Index BAM\n",
    "    \n",
    "    ```\n",
    "    samtools index ./../../notebooks/data/samtools_output/aln_chrm3_sorted.bam > ./../../notebooks/data/samtools_output/aln_chrm3_sorted.bam.bai\n",
    "    ```\n",
    "    \n",
    "5.  Call Variants using Freebayes\n",
    "\n",
    "    ```\n",
    "    freebayes -f ./../../Reference_Sequence/Homo_sapiens.GRCh37/chromosomes/Homo_sapiens.GRCh37.dna_sm.chromosome.3.fa ./../../notebooks/data/samtools_output/aln_chrm3_sorted.bam > ./../../notebooks/data/freebayes_output/aln_chrm3_sorted_variants.vcf\n",
    "    ```\n",
    "\n",
    "6.  Stopped because no coverage...\n",
    "    "
   ]
  },
  {
   "cell_type": "markdown",
   "metadata": {},
   "source": [
    "Analysis on Chromosome 1\n",
    "\n",
    "[Tutorial](http://quinlanlab.org/tutorials/samtools/samtools.html).\n",
    "[Tutorial](https://github.com/ekg/alignment-and-variant-calling-tutorial)\n",
    "\n",
    "1.  Unzip, Index, and BWA index reference\n",
    "\n",
    "    ```\n",
    "    gunzip ./../../Reference_Sequence/Homo_sapiens.GRCh37/chromosomes/Homo_sapiens.GRCh37.dna_sm.chromosome.1.fa.gz\n",
    "    samtools faidx ./../../Reference_Sequence/Homo_sapiens.GRCh37/chromosomes/Homo_sapiens.GRCh37.dna_sm.chromosome.1.fa\n",
    "    bwa index ./../../Reference_Sequence/Homo_sapiens.GRCh37/chromosomes/Homo_sapiens.GRCh37.dna_sm.chromosome.1.fa\n",
    "    ```\n",
    "\n",
    "1.  Aligning to Chromosome 1\n",
    "\n",
    "    ```\n",
    "    bwa mem -M -t 2 ./../../Reference_Sequence/Homo_sapiens.GRCh37/chromosomes/Homo_sapiens.GRCh37.dna_sm.chromosome.1.fa ./../../notebooks/data/original_files/aln1.fastq ./../../notebooks/data/original_files/aln1.fastq > ./../../notebooks/data/bwa_output/aln_chrm1_raw.sam\n",
    "    ```\n",
    "\n",
    "    \n",
    "3.  Convert SAM to BAM\n",
    "\n",
    "    ```\n",
    "    samtools view -S -b ./../../notebooks/data/bwa_output/aln_chrm1_raw.sam > ./../../notebooks/data/samtools_output/aln_chrm1_raw.bam\n",
    "    ```\n",
    "\n",
    "\n",
    "2.  Sort BAM file\n",
    "\n",
    "    ```\n",
    "    samtools sort ./../../notebooks/data/samtools_output/aln_chrm1_raw.bam > ./../../notebooks/data/samtools_output/aln_chrm1_sorted.bam\n",
    "    ```\n",
    "    \n",
    "4.  Index BAM\n",
    "    \n",
    "    ```\n",
    "    samtools index ./../../notebooks/data/samtools_output/aln_chrm1_sorted.bam > ./../../notebooks/data/samtools_output/aln_chrm1_sorted.bam.bai\n",
    "    ```\n",
    "    \n",
    "5.  Call Variants using Freebayes\n",
    "\n",
    "    ```\n",
    "    freebayes -f ./../../Reference_Sequence/Homo_sapiens.GRCh37/chromosomes/Homo_sapiens.GRCh37.dna_sm.chromosome.3.fa ./../../notebooks/data/samtools_output/aln_chrm3_sorted.bam > ./../../notebooks/data/freebayes_output/aln_chrm3_sorted_variants.vcf\n",
    "    ```\n",
    "\n",
    "6.  Stopped because no coverage..."
   ]
  }
 ],
 "metadata": {
  "kernelspec": {
   "display_name": ".venv",
   "language": "python",
   "name": ".venv"
  },
  "language_info": {
   "codemirror_mode": {
    "name": "ipython",
    "version": 3
   },
   "file_extension": ".py",
   "mimetype": "text/x-python",
   "name": "python",
   "nbconvert_exporter": "python",
   "pygments_lexer": "ipython3",
   "version": "3.6.7"
  }
 },
 "nbformat": 4,
 "nbformat_minor": 2
}
