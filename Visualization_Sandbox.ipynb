{
 "cells": [
  {
   "cell_type": "markdown",
   "metadata": {},
   "source": [
    "# Visualization Sandbox"
   ]
  },
  {
   "cell_type": "markdown",
   "metadata": {},
   "source": [
    "## Table of Contents"
   ]
  },
  {
   "cell_type": "markdown",
   "metadata": {},
   "source": [
    "1. [GenomeView](#genomeview)\n",
    "2. [plotly](#plotly)\n",
    "3. [seaborn](#seaborn)\n",
    "4. [altair](#altair)"
   ]
  },
  {
   "cell_type": "markdown",
   "metadata": {},
   "source": [
    "Let's import our packages."
   ]
  },
  {
   "cell_type": "code",
   "execution_count": 2,
   "metadata": {},
   "outputs": [],
   "source": [
    "import genomeview\n",
    "from genomeview.bamtrack import SingleEndBAMTrack, PairedEndBAMTrack\n",
    "import genomeview.axis\n",
    "import genomeview.graphtrack\n",
    "from genomeview import genomesource"
   ]
  },
  {
   "cell_type": "code",
   "execution_count": null,
   "metadata": {},
   "outputs": [],
   "source": [
    "import gzip\n",
    "import io\n",
    "import os\n",
    "import urllib.request\n",
    "\n",
    "genome_path = \"data/chr14.fa\"\n",
    "\n",
    "if not os.path.exists(\"data/pacbio.chr14.bam\"):\n",
    "    raise Exception(\"Make sure to run jupyter notebook from the genomeview examples directory.\")\n",
    "    \n",
    "if not os.path.exists(genome_path):\n",
    "    print(\"reference chrom 14 not found; downloading...\")\n",
    "    r = urllib.request.urlopen(\"http://hgdownload.cse.ucsc.edu/goldenpath/hg19/chromosomes/chr14.fa.gz\")\n",
    "    z = gzip.GzipFile(fileobj=io.BytesIO(r.read()), mode=\"rb\")\n",
    "    f = open(genome_path, \"wb\")\n",
    "    f.write(z.read())\n",
    "    print(\"...done.\")\n",
    "else:\n",
    "    print(\"Genome and bam files found, no further action required\")\n",
    "\n"
   ]
  },
  {
   "cell_type": "code",
   "execution_count": null,
   "metadata": {},
   "outputs": [],
   "source": [
    "print(howmany)"
   ]
  },
  {
   "cell_type": "code",
   "execution_count": null,
   "metadata": {},
   "outputs": [],
   "source": []
  },
  {
   "cell_type": "code",
   "execution_count": null,
   "metadata": {},
   "outputs": [],
   "source": []
  }
 ],
 "metadata": {
  "kernelspec": {
   "display_name": ".venv",
   "language": "python",
   "name": ".venv"
  },
  "language_info": {
   "codemirror_mode": {
    "name": "ipython",
    "version": 3
   },
   "file_extension": ".py",
   "mimetype": "text/x-python",
   "name": "python",
   "nbconvert_exporter": "python",
   "pygments_lexer": "ipython3",
   "version": "3.6.7"
  }
 },
 "nbformat": 4,
 "nbformat_minor": 2
}
